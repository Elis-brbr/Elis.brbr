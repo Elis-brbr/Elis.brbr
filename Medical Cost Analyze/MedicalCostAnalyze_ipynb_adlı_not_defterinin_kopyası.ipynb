{
  "nbformat": 4,
  "nbformat_minor": 0,
  "metadata": {
    "colab": {
      "provenance": []
    },
    "kernelspec": {
      "name": "python3",
      "display_name": "Python 3"
    },
    "language_info": {
      "name": "python"
    }
  },
  "cells": [
    {
      "cell_type": "code",
      "execution_count": null,
      "metadata": {
        "id": "2YWYDnYYNfyx"
      },
      "outputs": [],
      "source": [
        "import pandas as pd\n",
        "import seaborn as sns\n",
        "import matplotlib.pyplot as plt\n",
        "import numpy as np\n",
        "import seaborn as sns\n",
        "import seaborn as sns\n",
        "import matplotlib.pyplot as plt"
      ]
    },
    {
      "cell_type": "code",
      "source": [
        "custom_rc = {\"figure.figsize\": (8, 6)}\n",
        "sns.set(rc=custom_rc)"
      ],
      "metadata": {
        "id": "evQGOaiYNxLf"
      },
      "execution_count": null,
      "outputs": []
    },
    {
      "cell_type": "code",
      "source": [
        "medical = pd.read_csv(\"/content/insurance.csv\")\n",
        "df = medical.copy()"
      ],
      "metadata": {
        "id": "MESHLC0pNxTL"
      },
      "execution_count": null,
      "outputs": []
    },
    {
      "cell_type": "code",
      "source": [
        "df.shape"
      ],
      "metadata": {
        "id": "4We5hPS_NxVp"
      },
      "execution_count": null,
      "outputs": []
    },
    {
      "cell_type": "code",
      "source": [
        "df.head(15)"
      ],
      "metadata": {
        "id": "ywD28WjvNxYa"
      },
      "execution_count": null,
      "outputs": []
    },
    {
      "cell_type": "code",
      "source": [
        "df.info()\n",
        "df.isna().sum()"
      ],
      "metadata": {
        "id": "i5Dda23GNxa7"
      },
      "execution_count": null,
      "outputs": []
    },
    {
      "cell_type": "code",
      "source": [
        "df.describe().T"
      ],
      "metadata": {
        "id": "zdqnWUrGNxdc"
      },
      "execution_count": null,
      "outputs": []
    },
    {
      "cell_type": "code",
      "source": [
        "age_category= [\n",
        "    (0, 18),\n",
        "    (19, 25),\n",
        "    (26, 30),\n",
        "    (31, 35),\n",
        "    (36, 40),\n",
        "    (40, 45),\n",
        "    (46, 50),\n",
        "    (50, 55),\n",
        "    (56, 60,),\n",
        "    (61, 65),\n",
        "    (66, 100)\n",
        "]\n",
        "# Yaş gruplarına göre kategorik değişken oluşturuldu\n",
        "df['age_category'] = pd.cut(df['age'], bins=[x[0] for x in age_category] + [age_category[-1][1]], labels=[\"0-18\", \"19-25\", \"26-30\", \"31-35\", \"36-40\" , \"40-45\" , \"46-50\" , \"50-55\" , \"56-60\" , \"61-65\" , \"66+\"], right=False)"
      ],
      "metadata": {
        "id": "-U45tchmNxiJ"
      },
      "execution_count": null,
      "outputs": []
    },
    {
      "cell_type": "code",
      "source": [
        "bmi_category = [\n",
        "    (0, 15),      #(Ciddi Aşırı Zayıf)\n",
        "    (16, 18),     #(Aşırı Zayıf)\n",
        "    (18.5, 24.9), # (Normal)\n",
        "    (25, 29.9),   #(Kilolu)\n",
        "    (30, 34.9),   #(Obez Tip 1)\n",
        "    (35, 39.9),   #(Obez Tip 2)\n",
        "    (40, float('inf'))  # 40+ için (Obez Tip 3)\n",
        "]\n",
        "\n",
        "# Bmi gruplarına göre kategorik değişken oluşturuldu\n",
        "df['bmi_category'] = pd.cut(df['bmi'], bins=[x[0] for x in bmi_category] + [bmi_category[-1][1]], labels=[\"Ciddi Aşırı Zayıf\" , \"Aşırı Zayıf\" , \"Normal\", \"Kilolu\",\"Obez Tip 1\" , \"Obez Tip 2\", \"Obez Tip 3\"], right=False)\n"
      ],
      "metadata": {
        "id": "SXr1R5R1Nxkp"
      },
      "execution_count": null,
      "outputs": []
    },
    {
      "cell_type": "code",
      "source": [
        "df.head()"
      ],
      "metadata": {
        "id": "STsP9GJ6NxnK"
      },
      "execution_count": null,
      "outputs": []
    },
    {
      "cell_type": "code",
      "source": [
        "#Veri Setinin Normal Bir Dağılım Gösterip Göstermediğini Shapiro-Wilk Testi Uygulanması\n",
        "from scipy import stats\n",
        "sütunlar = df[['age', 'charges', 'bmi', 'children']]\n",
        "for sütun in sütunlar.columns:\n",
        "    statistik, p_degeri = stats.shapiro(sütunlar[sütun])\n",
        "    print(f'{sütun} - Statistik: {statistik}, p-değeri: {p_degeri}')\n",
        "    alfa = 0.05\n",
        "    if p_degeri > alfa:\n",
        "        print(f'{sütun} için veri normal bir dağılıma sahiptir (H0 reddedilmedi)')\n",
        "    else:\n",
        "        print(f'{sütun} için veri normal bir dağılıma sahip değildir (H0 reddedildi)')"
      ],
      "metadata": {
        "id": "9H5Q-ntjNxpq"
      },
      "execution_count": null,
      "outputs": []
    },
    {
      "cell_type": "markdown",
      "source": [
        "Shapiro Wilk testine göre veri setimizde bulunan age - charges - bmi ve children değişkenleri normal dağılım göstermiyor. Ancak ayrıca histogram ve yada Q-Q plotu ile de görselleştirerek değerlendirmek gerekiyor."
      ],
      "metadata": {
        "id": "UJiVuWFzQ2hm"
      }
    },
    {
      "cell_type": "code",
      "source": [
        "import scipy.stats as stats\n",
        "# Q-Q plt çizmek\n",
        "stats.probplot(df.age, dist=\"norm\", plot=plt)\n",
        "plt.title(\"Q-Q Plot\")\n",
        "plt.show()\n"
      ],
      "metadata": {
        "id": "I9nCWbupNxxa"
      },
      "execution_count": null,
      "outputs": []
    },
    {
      "cell_type": "code",
      "source": [
        "stats.probplot(df.bmi, dist=\"norm\", plot=plt)\n",
        "plt.title(\"Q-Q Plot\")\n",
        "plt.show()\n"
      ],
      "metadata": {
        "id": "x7KEzc6ZTaLx"
      },
      "execution_count": null,
      "outputs": []
    },
    {
      "cell_type": "code",
      "source": [
        "stats.probplot(df.children, dist=\"norm\", plot=plt)\n",
        "plt.title(\"Q-Q Plot\")\n",
        "plt.show()\n"
      ],
      "metadata": {
        "id": "6wT65vKQTaOQ"
      },
      "execution_count": null,
      "outputs": []
    },
    {
      "cell_type": "code",
      "source": [
        "stats.probplot(df.charges, dist=\"norm\", plot=plt)\n",
        "plt.title(\"Q-Q Plot\")\n",
        "plt.show()\n"
      ],
      "metadata": {
        "id": "7AiJ_SXvTaQ0"
      },
      "execution_count": null,
      "outputs": []
    },
    {
      "cell_type": "markdown",
      "source": [
        "Q-Q plt ile görsel olarak incelendiğinde bmi değişkeni diğerlerine oranla biraz daha iyi normal dağılım göstermektedir. Normal dağılım göstermemelerinin sebebi veri setinde aykırı değerler (outlier) olduğu için olabilir. Bunun için önce boxplot ile görselleştirme yapılarak aykırı değerlerin olup olmadığını tespit etmeliyiz."
      ],
      "metadata": {
        "id": "emwawzjWTu7s"
      }
    },
    {
      "cell_type": "code",
      "source": [
        "sütun_adı = 'age'\n",
        "plt.figure(figsize=(8, 6))\n",
        "plt.boxplot(df[sütun_adı], vert=False)\n",
        "plt.title(f'{sütun_adı} Box Plot')\n",
        "plt.xlabel(sütun_adı)\n",
        "plt.show()"
      ],
      "metadata": {
        "id": "B_HPHK-VTaTf"
      },
      "execution_count": null,
      "outputs": []
    },
    {
      "cell_type": "code",
      "source": [
        "sütun_adı = 'children'\n",
        "plt.figure(figsize=(8, 6))\n",
        "plt.boxplot(df[sütun_adı], vert=False)\n",
        "plt.title(f'{sütun_adı} Box Plot')\n",
        "plt.xlabel(sütun_adı)\n",
        "plt.show()"
      ],
      "metadata": {
        "id": "HXLisd1JTaVg"
      },
      "execution_count": null,
      "outputs": []
    },
    {
      "cell_type": "code",
      "source": [
        "sütun_adı = 'bmi'\n",
        "plt.figure(figsize=(8, 6))\n",
        "plt.boxplot(df[sütun_adı], vert=False)\n",
        "plt.title(f'{sütun_adı} Box Plot')\n",
        "plt.xlabel(sütun_adı)\n",
        "plt.show()"
      ],
      "metadata": {
        "id": "ulRSl13BTaXw"
      },
      "execution_count": null,
      "outputs": []
    },
    {
      "cell_type": "code",
      "source": [
        "sütun_adı = 'charges'\n",
        "plt.figure(figsize=(8, 6))\n",
        "plt.boxplot(df[sütun_adı], vert=False)\n",
        "plt.title(f'{sütun_adı} Box Plot')\n",
        "plt.xlabel(sütun_adı)\n",
        "plt.show()"
      ],
      "metadata": {
        "id": "MeB3wQ1ATaah"
      },
      "execution_count": null,
      "outputs": []
    },
    {
      "cell_type": "markdown",
      "source": [
        "Age ve children değişeknlerinde aykırı değer görünmüyor ancak bmi ve charges değişkenlerinde aykırı değerler olduğu görülmektedir. BMİ değişkenini inceledim ve 18 altı ve 40 üstü hastaklarında olabileceği mümkün olduğu için bu değerler aykırı değer olarak ele alınmadı bu nedenle üzerlerinde herhangi bir değişiklik yapılmadı.\n",
        "Charges değişkeni ise ele alınarak genel bir inceleme yapıldı."
      ],
      "metadata": {
        "id": "PSMk_6RYUh0S"
      }
    },
    {
      "cell_type": "code",
      "source": [
        "genel_ist = df.groupby('region')['charges'].describe()\n",
        "genel_ist"
      ],
      "metadata": {
        "id": "R8esN0-aTaei"
      },
      "execution_count": null,
      "outputs": []
    },
    {
      "cell_type": "markdown",
      "source": [
        "Burada bölge bazında ödenen ücretlerin ortalama değerlerine erişebiliyoruz. Öncelikle burada dengeli bir veri olduğunu söyleyemeyiz çüngi bölge bazındaki veriler eşit değildir tabiki bu durum ortalama ve sapmayı etkileyecektir. Buraya göre youmlarsak eğer en çok southeast bölgesi ortalama diğer bölgelere göre daha çok ödeme yapmaktadır. Ancak genel olarak std değerlerini incelediğimizde bu oranlar çok yüksek olduğu görülebilmekte buda aykırı değerler içerdiğinin ipucunuda bize vermektedir."
      ],
      "metadata": {
        "id": "IZDA74i_Vr_l"
      }
    },
    {
      "cell_type": "code",
      "source": [
        "genel_ist = df.groupby('sex')['charges'].describe()\n",
        "genel_ist"
      ],
      "metadata": {
        "id": "lHPKwUPqTahP"
      },
      "execution_count": null,
      "outputs": []
    },
    {
      "cell_type": "markdown",
      "source": [
        "Erkek ve kadın sayıları aynı olmadığından hesaplamalarda değişkenlik olması muhtemeldir. Buraya göre incelediğimizde erkeklere kadınlara göre daha fazla sağlık ücreti ödemesi aldıkları görülebilmektedir."
      ],
      "metadata": {
        "id": "cRbSDgkOWDNa"
      }
    },
    {
      "cell_type": "code",
      "source": [
        "genel_ist = df.groupby('smoker')['charges'].describe()\n",
        "genel_ist"
      ],
      "metadata": {
        "id": "5Kabk0yATaj0"
      },
      "execution_count": null,
      "outputs": []
    },
    {
      "cell_type": "markdown",
      "source": [
        "Sigara içenlerin içmeyenlere göre daha fazla sağlık ücreti ödemesi yapılmıştır. Ayrıca Veri setimizdeki 1338 kişiden büyük çoğunluğu sigara içmediğide anlaşılmaktadır."
      ],
      "metadata": {
        "id": "Uh51X0pGWMPv"
      }
    },
    {
      "cell_type": "code",
      "source": [
        "genel_ist = df.groupby('children')['charges'].describe()\n",
        "genel_ist"
      ],
      "metadata": {
        "id": "svCDst1kTamQ"
      },
      "execution_count": null,
      "outputs": []
    },
    {
      "cell_type": "markdown",
      "source": [
        "Veri setimiz dengeli olmasada(çoçuk sayısı bakımından burda) buradan anlaşıldığı üzere çoçuk sayısı arttıkça kişiye ödenen sağlık ücretinin arttığını anlayabiliriz. Çünki 1338 kişisen 18 kişi sadece 5 çoçuğa sahip olsada ortalama değeri diğerlerine göre yakın bir değer çıkmıştır."
      ],
      "metadata": {
        "id": "7PwConIRWZxr"
      }
    },
    {
      "cell_type": "code",
      "source": [
        "genel_ist = df.groupby('age_category')['charges'].describe()\n",
        "genel_ist"
      ],
      "metadata": {
        "id": "lpuw9IZWTapU"
      },
      "execution_count": null,
      "outputs": []
    },
    {
      "cell_type": "markdown",
      "source": [
        "Burada 1338 kişiden diğerlerine oranla en fazla 19-25 yaş aralığı kişiler vardır ve ortalama değerleri incelendiğinde Kişilerin yaş değerleri arttıkça aldıkları ssağlık ödemesi ücretlerinde artış bulunmaktadır. Ayrıca 19-25 aralığında artış diğer genç nüfüsa göre fazla olması dikkat çekicidir."
      ],
      "metadata": {
        "id": "4mjmxs83Wjc8"
      }
    },
    {
      "cell_type": "code",
      "source": [
        "genel_ist = df.groupby('bmi_category')['charges'].describe()\n",
        "genel_ist"
      ],
      "metadata": {
        "id": "mlXjWKN5Tarw"
      },
      "execution_count": null,
      "outputs": []
    },
    {
      "cell_type": "markdown",
      "source": [
        "Burada bireylerin bmi değerleri arttıkça insanların aldıkları sağlık ücretlerinde artış olduğu anlaşılmaktadır."
      ],
      "metadata": {
        "id": "MInnhRLYWtRk"
      }
    },
    {
      "cell_type": "markdown",
      "source": [
        "Note: Charges değişkeninde aykırı değerler içerdiğinden yukarıda charges değişkeninne göre elde edilen bulgular çok güvenilir olmasada bizim genel bir değerlendirme yapmamızı sağlamaktadır."
      ],
      "metadata": {
        "id": "p7QFyhXMXKr6"
      }
    },
    {
      "cell_type": "code",
      "source": [
        "# Charges değişeninde bulunan aykırı değerleri tespit etme\n",
        "alt_deger = np.percentile(df['charges'], 1)\n",
        "ust_deger = np.percentile(df['charges'], 99)\n",
        "\n",
        "aykiri_indeksler = (df['charges'] < alt_deger) | (df['charges'] > ust_deger)\n",
        "aykiri_satirlar = df[aykiri_indeksler]\n",
        "\n",
        "print(\"Aykırı Değerlerin Satır İndeksleri:\")\n",
        "print(aykiri_indeksler[aykiri_indeksler].index)\n",
        "print(\"Aykırı Değerlere Sahip Satırlar:\")\n",
        "print(aykiri_satirlar)\n"
      ],
      "metadata": {
        "id": "hiuz6n61Tauv"
      },
      "execution_count": null,
      "outputs": []
    },
    {
      "cell_type": "code",
      "source": [
        "#Daha iyi gözlemleyebilmek için bölgeye göre bir sıralama yaptırma\n",
        "aykiri_satirlar.sort_values(by=['region', 'charges'])"
      ],
      "metadata": {
        "id": "_sY2cTSBTaxv"
      },
      "execution_count": null,
      "outputs": []
    },
    {
      "cell_type": "code",
      "source": [
        "filtre = (df['age_category'] == '50-55') & (df['region'] == 'northwest') & (df['sex'] == 'male')\n",
        "sonuc_df = df[filtre]\n",
        "\n",
        "print(sonuc_df)"
      ],
      "metadata": {
        "id": "RDPl6chHYCZ6"
      },
      "execution_count": null,
      "outputs": []
    },
    {
      "cell_type": "markdown",
      "source": [
        "Buradaki değerler incelendiğinde çok benzer olan kişilerin mesela ilk iki satırdaki bireye bakıldığında aralarındaki charges değerleri çok fazla olduğu görülmektedir. Aralarındaki tek fark sadece birinin bir çoçuğa sahip olmasıdır. Burada bu değerlerin aykırı olduğu kabul edilerek baskılama(Winsorization) yöntemi ile bölge bazında charges değerleri güncellenecektir. Bu kısım görsel işlemi tamamlandıktan sonra yapılacaktır."
      ],
      "metadata": {
        "id": "zTh2H_avYc-v"
      }
    },
    {
      "cell_type": "markdown",
      "source": [
        "Buradan sonraki kısımda görsel olarak incelenilmeye devam edilecektir. Genel olarak görsellerde ortalama charges değeri baz alınırak karşılaştırmalar yapılmıştır. Çünki bireylere ödenen sağlık ücretleri ele alınarak değişkenlerin incelenmesini daha doğru olduğu düşünülmüştür. Ayrıca charges değeri aykırı değerler içerdiği için genel olarak çıkan izlenimler doğru olmayacaktır. Bu nedenle aykırı değerler düzeltilmeden önce bir genel izlenim sahibi olmak için burada böyle yapılmıştır."
      ],
      "metadata": {
        "id": "fygpsXZTZH9q"
      }
    },
    {
      "cell_type": "code",
      "source": [
        "mean_charges = df.groupby(['region', 'sex'])['charges'].mean().reset_index()\n",
        "plt.figure(figsize=(12, 6))\n",
        "sns.barplot(x='region', y='charges', hue='sex', data=mean_charges)\n",
        "plt.title('Cinsiyet ve Bölgeye Göre Ortalama Charges')\n",
        "plt.show()"
      ],
      "metadata": {
        "id": "6iEsPAEuYCcw"
      },
      "execution_count": null,
      "outputs": []
    },
    {
      "cell_type": "markdown",
      "source": [
        "Bölgeler bazında bakıldığında erkeklerin sayısı genel olrak kadınlardan daha fazla sadece northwest bölgesinde kadınlar bir tik fazladır. Ayrıca erkeklerin northwest dışında diğer bölgelerde daha fazla sağlık ödemesi aldıkları görülebilmektedir."
      ],
      "metadata": {
        "id": "8Edd5EheZa8W"
      }
    },
    {
      "cell_type": "code",
      "source": [
        "mean_charges = df.groupby(['age_category', 'sex'])['charges'].mean().reset_index()\n",
        "plt.figure(figsize=(12, 6))\n",
        "sns.barplot(x='age_category', y='charges', hue='sex', data=mean_charges)\n",
        "plt.title('Cinsiyet ve Yaş Gruplarına Göre Ortalama Charges')\n",
        "plt.show()\n"
      ],
      "metadata": {
        "id": "Ym7ihV7jYCe_"
      },
      "execution_count": null,
      "outputs": []
    },
    {
      "cell_type": "markdown",
      "source": [
        "Daha önce genel_ist kısmında 19-25 arası hastaların çok olduğunu belirtmiştik. Buradanda anlaşılacağı üzere 19-25 arası bireylerin en çok erkek hastalar oluşturmaktadır. Genel bazda yaş olarak bakıldığında erkeklerin daha fazla olduğu görülebilmektedir."
      ],
      "metadata": {
        "id": "ExRRTRxQZpVD"
      }
    },
    {
      "cell_type": "code",
      "source": [
        "mean_charges = df.groupby(['age_category', 'smoker'])['charges'].mean().reset_index()\n",
        "plt.figure(figsize=(12, 6))\n",
        "sns.barplot(x='age_category', y='charges', hue='smoker', data=mean_charges)\n",
        "plt.title('Bölge Bazında Bireylerin Sigara Kullanım Durumlarına Göre Ortalama Charges')\n",
        "plt.show()\n"
      ],
      "metadata": {
        "id": "GLGhEqAtYChc"
      },
      "execution_count": null,
      "outputs": []
    },
    {
      "cell_type": "markdown",
      "source": [
        "Daha önce gelen_ist kısmında Erkeklerin kadınlara göre daha yüksek oranda sağlık ödemesi aldıkları anlaşılmıştı. Buradanda anlaşıldığı üzere erkeklerin kadınlara göre daha yüksek oranda sigara içiminden dolayı hastalandıkları görüleebilmektedir."
      ],
      "metadata": {
        "id": "ukjW_NXDaaw2"
      }
    },
    {
      "cell_type": "code",
      "source": [
        "mean_charges = df.groupby(['children', 'sex'])['charges'].mean().reset_index()\n",
        "plt.figure(figsize=(12, 6))\n",
        "sns.barplot(x='children', y='charges', hue='sex', data=mean_charges)\n",
        "plt.title('Cinsiyet Ve Sahip Olunan Çoçuk Sayısına Göre Ortalama Charges')\n",
        "plt.show()\n"
      ],
      "metadata": {
        "id": "JCOZRy3eYCkK"
      },
      "execution_count": null,
      "outputs": []
    },
    {
      "cell_type": "code",
      "source": [
        "mean_charges = df.groupby(['bmi_category', 'sex'])['charges'].mean().reset_index()\n",
        "plt.figure(figsize=(12, 6))\n",
        "sns.barplot(x='bmi_category', y='charges', hue='sex', data=mean_charges)\n",
        "plt.title('Cinsiyet Ve Bmi Kategörilerine Göre Ortalama Charges')\n",
        "plt.show()\n"
      ],
      "metadata": {
        "id": "Tb2MXUhJYCmu"
      },
      "execution_count": null,
      "outputs": []
    },
    {
      "cell_type": "markdown",
      "source": [
        "Burada bmi kategorileri değerleri incelendiğinde genel olarak erkeklerin büyük çoğunluğu Obez seviyesinde kiloludur. Kadınlar ise erkeklere göre daha az obez olsalarda aşırı zayıf olanlarıda vardır. Tabi içlerinde ciddi oranda zayıf olan kişiler sadece erkek olduğuda görülebilmektedir ."
      ],
      "metadata": {
        "id": "6s-cQ-phbbFk"
      }
    },
    {
      "cell_type": "code",
      "source": [
        "mean_charges = df.groupby(['region', 'bmi_category'])['charges'].mean().reset_index()\n",
        "plt.figure(figsize=(12, 6))\n",
        "sns.barplot(x='region', y='charges', hue='bmi_category', data=mean_charges)\n",
        "plt.title('Bölge Bazında Bmi Kategorilerine Göre Ortalama Charges')\n",
        "plt.show()"
      ],
      "metadata": {
        "id": "auCysoBWYCqE"
      },
      "execution_count": null,
      "outputs": []
    },
    {
      "cell_type": "markdown",
      "source": [
        "Bir önceki görselde ciddi oranda aşırı zayıf olan erkeklerin sadece northeast bölgesinde yer aldığı görülebilmektedir.\n",
        "Genel olarak bakıldığında en çok üst seviye obez insanların bulunduğu bölge southeast olduğu anlaşılmaktadır. Genel olarakta bireylerin yüksek oranda normalin üstünde kilolu olduklarıda görülebilmektedir."
      ],
      "metadata": {
        "id": "t2hl2PjSbyjK"
      }
    },
    {
      "cell_type": "code",
      "source": [
        "mean_charges = df.groupby(['region', 'children'])['charges'].mean().reset_index()\n",
        "plt.figure(figsize=(12, 6))\n",
        "sns.barplot(x='region', y='charges', hue='children', data=mean_charges)\n",
        "plt.title('Bölge Bazında Sahip Olunan Çocuk Sayılarına Göre Ortalama Charges')\n",
        "plt.show()"
      ],
      "metadata": {
        "id": "r3XWuEeFYCsL"
      },
      "execution_count": null,
      "outputs": []
    },
    {
      "cell_type": "markdown",
      "source": [
        "Buradaki elde edilen grafiğe göre northwest ve southeast bölgesinde en çok 2-3 çoçuk sahibi olan bireylere daha fazla sağlık ücreti ödemesi yapılırken southwest bölgesinde 2 ve 4 çoçuklu bireylere daha fazla sağlık ödemesi yapıldığı tespit edilebilmektedir. Geriye kalan northeast bölgesinde ise en çok 1 çoçuklu bireylerin daha fazla ödeme aldığı görülebilmektedir."
      ],
      "metadata": {
        "id": "cP6AFDM5cEog"
      }
    },
    {
      "cell_type": "code",
      "source": [
        "mean_charges = df.groupby(['age_category', 'bmi_category'])['charges'].mean().reset_index()\n",
        "plt.figure(figsize=(12, 6))\n",
        "sns.barplot(x='age_category', y='charges', hue='bmi_category', data=mean_charges)\n",
        "plt.title('Cinsiyet ve Bölgeye Göre Ortalama Charges')\n",
        "plt.show()"
      ],
      "metadata": {
        "id": "107J_OV0YCue"
      },
      "execution_count": null,
      "outputs": []
    },
    {
      "cell_type": "markdown",
      "source": [
        "Bu grafikte genel olarak yaş gruplarında aşırı zayıf - obez tip 3 - obez tip 2 - obez tip 1 olan kişilerin daha fazla sağlık ödemesi aldığı bilgisine ulaşılabilmektedir."
      ],
      "metadata": {
        "id": "n0An5clFccvC"
      }
    },
    {
      "cell_type": "markdown",
      "source": [
        "Buradan sonraki kısımda yer alan görseller projede istenilen görsel ve bilgilere yer verilmiştir."
      ],
      "metadata": {
        "id": "geBXEShrcnvo"
      }
    },
    {
      "cell_type": "code",
      "source": [
        "cocuk_sayisi_bolge = df.groupby('region')['children'].sum().reset_index()\n",
        "print(cocuk_sayisi_bolge)"
      ],
      "metadata": {
        "id": "Az5wSFc9YCxI"
      },
      "execution_count": null,
      "outputs": []
    },
    {
      "cell_type": "markdown",
      "source": [
        "En çok çoçuk sagibi olan bölge southeast olduğu anlaşılmaktadır."
      ],
      "metadata": {
        "id": "ubYoxyH2c76D"
      }
    },
    {
      "cell_type": "code",
      "source": [
        "#Keman Grafiği\n",
        "plt.figure(figsize=(10, 6))\n",
        "sns.violinplot(x='sex', y='bmi', data=df)\n",
        "plt.title('BMI ve Cinsiyet İlişkisi')\n",
        "plt.xlabel('Cinsiyet')\n",
        "plt.ylabel('BMI')\n",
        "plt.show()"
      ],
      "metadata": {
        "id": "-_iACnQXYCze"
      },
      "execution_count": null,
      "outputs": []
    },
    {
      "cell_type": "markdown",
      "source": [
        "Keman grafiğnde erkeklerde 50 üstü bmi değer olduğu görülebilmelte ve ayrıca her iki cinsiyette ise 20-40 bmi değere sahip bireylerden oluştuğu görülebilmektedir."
      ],
      "metadata": {
        "id": "dJ1RGwkcdD4z"
      }
    },
    {
      "cell_type": "code",
      "source": [
        "#Nokta Grafiği\n",
        "plt.figure(figsize=(10, 6))\n",
        "sns.scatterplot(x='bmi', y='age', data=df)\n",
        "plt.xlabel('BMI (Vücut Kitle İndeksi)')\n",
        "plt.ylabel('Yaş')\n",
        "plt.title('BMI ve Yaş Arasındaki İlişki')\n",
        "plt.show()\n"
      ],
      "metadata": {
        "id": "U7H36kFDYC2S"
      },
      "execution_count": null,
      "outputs": []
    },
    {
      "cell_type": "markdown",
      "source": [
        "Nokta grafiği ile bmi ve age arasındaki ilişkiyi inceleyebilmek mümkün. Burada veriler çok dağınık bir biçimde yer almaktadır. Bu nedenle kategorik bazda izlenim daha güzel ve açıklayıcı bir görsel bize sunabilir.Daha önce sütün grafiğinde inceleme yapılmıştı ama burada bu sefer age ve bmi ilişkisini kategorik bazda ısı haritası ile inceleme yapıldı.Tabi charges ele alınmıştı burada sadece age ve bmi değerleri dikkate alındı."
      ],
      "metadata": {
        "id": "oOIXh0uedap8"
      }
    },
    {
      "cell_type": "code",
      "source": [
        "#Isı Haritası\n",
        "data_to_plot = df[['age_category', 'bmi_category']]\n",
        "relationship_matrix = data_to_plot.groupby(['age_category', 'bmi_category']).size().unstack()\n",
        "\n",
        "relationship_matrix = relationship_matrix.fillna(0)\n",
        "\n",
        "plt.figure(figsize=(10, 8))\n",
        "sns.heatmap(relationship_matrix, annot=True, fmt='d', cmap='YlGnBu')\n",
        "plt.title('Yaş Kategorisi ve BMI Kategorisi İlişkisi')\n",
        "plt.xlabel('BMI Kategorisi')\n",
        "plt.ylabel('Yaş Kategorisi')\n",
        "plt.show()\n"
      ],
      "metadata": {
        "id": "l5ppIqdQdUbR"
      },
      "execution_count": null,
      "outputs": []
    },
    {
      "cell_type": "markdown",
      "source": [
        "Sonuç olarak 19 ile 25 yaş aralığındaki bireylerin kilolu ve obez tip 1 olduğu görülmektedir. Aşırı zayıf kişiler 0 ile 18 yaş arasındaki bireydir. Aşırı zayıf bireyler en çok 19 - 25 yaş aralığındaki bireylerdir. Normal kilolu bireyler yine en çok 19-25 yaş aralığındaki bireylerdir. Normal üstü kilolu bireyler yine en çok 19-25 yaş aralığındaki bireylerdir. Bir sağlık sorunu olaan obez tip 1 evresindeki insanlar en çok 19-25 yaş aralığındaki bireylerdir. Obez tip 2 evresindeki bireyler ise en çok 50-55 yaş arasındaki bireylerdir. obez tip 3 evresindeki bireyler 50-55 yaş aralığındaki bireylerdir. Sonuç olarak bmi değeri çok yüksek olan hastalar en çok 50-55 yaş aralığındaki insanlarda bulunmaktadır. Ancak obez tip 1 de 19-25 arasındaki bireylerde yüksek bir değer içermektedir."
      ],
      "metadata": {
        "id": "tMJrokvbduel"
      }
    },
    {
      "cell_type": "code",
      "source": [
        "# Dağılım Grafiği\n",
        "plt.figure(figsize=(10, 6))\n",
        "sns.scatterplot(x='bmi', y='children', data=df)\n",
        "plt.title('BMI ve Çocuk Sayısı İlişkisi')\n",
        "plt.xlabel('BMI')\n",
        "plt.ylabel('Çocuk Sayısı')\n",
        "plt.show()\n"
      ],
      "metadata": {
        "id": "f3MWweyLdbhf"
      },
      "execution_count": null,
      "outputs": []
    },
    {
      "cell_type": "markdown",
      "source": [
        "Dağılım grafiği ile incelediğimizde bmi değerine göre bireylerin çoçuk sayılarını görebilmekteyiz. Bunu bmi değerini kategorik olarak incelediğimizde bize daha ayrıntılı bir detay gösterecektir."
      ],
      "metadata": {
        "id": "tO-kKoE1d_sd"
      }
    },
    {
      "cell_type": "code",
      "source": [
        "#Isı haritası\n",
        "pivot_data = df.groupby(['children', 'bmi_category']).size().reset_index(name='count')\n",
        "heatmap_data = pivot_data.pivot('bmi_category', 'children', 'count')\n",
        "plt.figure(figsize=(12, 8))\n",
        "sns.heatmap(heatmap_data, annot=True, fmt='d', cmap='YlGnBu')\n",
        "plt.title('BMI Category ve Children İlişkisi Heatmap')\n",
        "plt.xlabel('Children')\n",
        "plt.ylabel('BMI Category')\n",
        "plt.show()"
      ],
      "metadata": {
        "id": "MUYywbzvdbkC"
      },
      "execution_count": null,
      "outputs": []
    },
    {
      "cell_type": "markdown",
      "source": [
        "Burada bireylerin bmi değerlerine göre sahip oldukları çoçuk sayısı incelendiğinde çoçuk sayısı arttıkça özellikle obez tip 1-2-3 de birey sayısının daha az olduğunu görebilmekteyiz."
      ],
      "metadata": {
        "id": "YKDujpj9eK1m"
      }
    },
    {
      "cell_type": "code",
      "source": [
        "#Saçılma Grafiği\n",
        "plt.figure(figsize=(12, 6))\n",
        "sns.scatterplot(x='bmi', y='charges', data=df)\n",
        "plt.title('BMI ve Charges İlişkisi')\n",
        "plt.xlabel('BMI')\n",
        "plt.ylabel('Charges')\n",
        "plt.show()\n"
      ],
      "metadata": {
        "id": "sJ2TIM6Pdbn0"
      },
      "execution_count": null,
      "outputs": []
    },
    {
      "cell_type": "markdown",
      "source": [
        "Saçılma grafiği ile bmi ile charges arasındaki ilişkiyi inceleyebiliriz. Aslında bu grafikte charges değişkeninin aykırı değer içerebildiği tahmin edilebilir.45-50 Bmi değere sahip bir kişinin charges ödemesi 60.000 üstünde yer almış ancak yine 45-50 arasındaki bireylerin ödemeleri daha düşük olduğu görülebilmektedir."
      ],
      "metadata": {
        "id": "-LuGOjtGeUfR"
      }
    },
    {
      "cell_type": "markdown",
      "source": [
        "Daha önce Shapiro-Wilk testi ile age - children - bmi ve charges değişkenlerinin normal dağılmadığını tespit etmiştik. Ancak Q-Q PLt ile incelendiğinde sadece bmi değişkenin daha normal bir dağılım gösterdiğini tespit ettik. Biz burada Shapiro-wilk hipotez testinin daha doğru bir sonuc veridiğini kabul ettik.\n",
        "\n",
        "Şimdi daha önce elde ettiğimiz (outlire) aykırı değerlere winsorization işlemi uygalanacaktır."
      ],
      "metadata": {
        "id": "kl4kd7p9l-ed"
      }
    },
    {
      "cell_type": "code",
      "source": [
        "#Baskılama (WİNSORİZATİON) İşlemi\n",
        "df.sort_values(by='region', inplace=True)\n",
        "medyan_degerler = df.groupby('region')['charges'].median()\n",
        "for index, row in aykiri_satirlar.iterrows():\n",
        "    region = row['region']\n",
        "    yeni_deger = medyan_degerler[region]\n",
        "    df.loc[index, 'charges'] = yeni_deger\n",
        "print(df)\n"
      ],
      "metadata": {
        "id": "WIbHZY6Vdbqr"
      },
      "execution_count": null,
      "outputs": []
    },
    {
      "cell_type": "markdown",
      "source": [
        "Winsorization işlemi uygulanarak bölge bazında yüksek değer içerem değerler bölgelerin medyan değeri ile güncellenmiştir.\n",
        "Burada bölge bazında ayrı ayrı winsoraziton işleminin yapılmasının amacı genelde her bölge kendi kurallarına göre bünyesinde yaşayan bireylere farklı tutarlarda ödeme yapması mümkündür."
      ],
      "metadata": {
        "id": "tKspu71EfSwd"
      }
    },
    {
      "cell_type": "code",
      "source": [
        "# Bulduğum indeks değerlerine sahip satırları seçer\n",
        "secilen_satirlar = df.loc[[22, 34, 175, 194, 281, 442, 488, 530, 543, 577, 584, 663, 681, 781, 791, 808, 819, 866, 901, 940, 1062, 1146, 1230, 1241, 1244, 1251, 1300, 1317]]\n",
        "\n",
        "# Seçilen satırları yazdırır\n",
        "print(secilen_satirlar)\n"
      ],
      "metadata": {
        "id": "4CqQVLXEdbro"
      },
      "execution_count": null,
      "outputs": []
    },
    {
      "cell_type": "markdown",
      "source": [
        "Burada aykiri_satirlar içinde bulunan değerler için df içinde bölge bazında bir sıralama yapılıp daha sonra medyan değerleri belirlenip tekrardan aykiri satırlar içinde yer alan bölgelere göre her bölgenin kendi medyan değeri bu değerler ile güncellendi. Aslında bu şekilde boxplot çiziminde bize aykırı değer olarak göstersede biz her bölgenin kendi ödeme tutarı belirlediğinden sadece bölge bazında güncelleme yaptıık."
      ],
      "metadata": {
        "id": "x2AsccjIg8Bg"
      }
    },
    {
      "cell_type": "code",
      "source": [
        "genel_ist = df.groupby('region')['charges'].describe()\n",
        "genel_ist"
      ],
      "metadata": {
        "id": "7_5EiGzodbuU"
      },
      "execution_count": null,
      "outputs": []
    },
    {
      "cell_type": "markdown",
      "source": [
        "\n",
        "          \tcount        mean\n",
        "\n",
        "northeast\t324.0\t13406.384516      \n",
        "northwest\t325.0\t12417.575374\t    \n",
        "southeast\t364.0\t14735.411438\t  \n",
        "southwest\t325.0\t12346.937377\n",
        "\n",
        "daha önceki bulduğumuz değerler ile yeni değerleri karşılaştırabilirsiniz. Artık aykırı değerler olmadığı için(bölge bazında) yorum yapmak daha kolaydır."
      ],
      "metadata": {
        "id": "qf2JgDQvhK2N"
      }
    },
    {
      "cell_type": "markdown",
      "source": [
        "MAKİNE ÖĞRENMESİ İLE BİREYLERİN CHARGES DEĞERİNİ TAHMİN ETME\n"
      ],
      "metadata": {
        "id": "gUxVDfIehe5t"
      }
    },
    {
      "cell_type": "code",
      "source": [
        "df['sex'] = df['sex'].apply(lambda x: 1 if x == 'female' else 0)"
      ],
      "metadata": {
        "id": "do7Pg_dJdbw2"
      },
      "execution_count": null,
      "outputs": []
    },
    {
      "cell_type": "code",
      "source": [
        "df['smoker'] = df['smoker'].apply(lambda x: 1 if x == 'yes' else 0)"
      ],
      "metadata": {
        "id": "w5Vu4tUShrTm"
      },
      "execution_count": null,
      "outputs": []
    },
    {
      "cell_type": "code",
      "source": [
        "df['region'] = df['region'].map({'southeast': 1, 'southwest': 2, 'northeast': 3, 'northwest': 4})"
      ],
      "metadata": {
        "id": "1YiXe5TAhrWE"
      },
      "execution_count": null,
      "outputs": []
    },
    {
      "cell_type": "code",
      "source": [
        "df['bmi_category'] = df['bmi_category'].map({'Obez Tip 1': 1, 'Obez Tip 2': 2, 'Obez Tip 3': 3, 'Kilolu': 4 , 'Normal':5 , 'Aşırı Zayıf': 6 , 'Ciddi Aşırı Zayıf' : 7})"
      ],
      "metadata": {
        "id": "3tye0qZWhrbh"
      },
      "execution_count": null,
      "outputs": []
    },
    {
      "cell_type": "code",
      "source": [
        "df['age_category'] = df['age_category'].map({'19-25': 1, '50-55': 2, '40-45': 3, '26-30': 4 , '31-35':5 , '56-60': 6 , '46-50' : 7 , '36-40':8 , '61-65': 9 , '0-18' : 10 , '66+': 11})"
      ],
      "metadata": {
        "id": "ZMQIcBZ6hreg"
      },
      "execution_count": null,
      "outputs": []
    },
    {
      "cell_type": "code",
      "source": [
        "# Veri setini yedek alma ve bağımlı ve bağımsız değişkenler olarak ayırma yapma\n",
        "orjn = df.loc[:, [\"sex\", \"children\", \"smoker\", \"region\", \"charges\", \"age_category\", \"bmi_category\"]]\n",
        "x = orjn.drop(columns=['charges'])\n",
        "y = orjn.loc[: , [\"charges\"]]"
      ],
      "metadata": {
        "id": "tZfuoFJdhrfr"
      },
      "execution_count": null,
      "outputs": []
    },
    {
      "cell_type": "code",
      "source": [
        "from sklearn.preprocessing import StandardScaler\n",
        "scaler = StandardScaler()\n",
        "x_scaled = scaler.fit_transform(x)"
      ],
      "metadata": {
        "id": "3XA43Wtshrh1"
      },
      "execution_count": null,
      "outputs": []
    },
    {
      "cell_type": "code",
      "source": [
        "from sklearn.model_selection import train_test_split\n",
        "x_train, x_test, y_train, y_test = train_test_split(x, y, test_size=0.3, random_state=42)\n",
        "from sklearn.metrics import mean_absolute_error, mean_squared_error, mean_absolute_percentage_error, r2_score\n",
        "from sklearn.linear_model import (\n",
        "    LinearRegression,\n",
        "    Ridge,\n",
        "    Lasso,\n",
        "    ElasticNet,\n",
        "    PoissonRegressor,\n",
        "    BayesianRidge,\n",
        "    LassoLars,\n",
        "    OrthogonalMatchingPursuit,\n",
        "    RANSACRegressor,\n",
        "    HuberRegressor,\n",
        ")\n",
        "from sklearn.tree import DecisionTreeRegressor\n",
        "from sklearn.ensemble import (\n",
        "    RandomForestRegressor,\n",
        "    GradientBoostingRegressor,\n",
        "    AdaBoostRegressor,\n",
        "    BaggingRegressor,\n",
        ")\n",
        "from sklearn.neighbors import KNeighborsRegressor, RadiusNeighborsRegressor\n",
        "from sklearn.svm import SVR, NuSVR, LinearSVR\n",
        "from xgboost import XGBRegressor\n",
        "from lightgbm import LGBMRegressor\n",
        "\n",
        "# Modelleri ve isimlerini bir liste içinde tutuldu\n",
        "models = [\n",
        "    (\"Linear Regression\", LinearRegression()),\n",
        "    (\"Ridge\", Ridge()),\n",
        "    (\"Lasso\", Lasso()),\n",
        "    (\"ElasticNet\", ElasticNet()),\n",
        "    (\"Poisson Regressor\", PoissonRegressor()),\n",
        "    (\"Bayesian Ridge\", BayesianRidge()),\n",
        "    (\"LassoLars\", LassoLars()),\n",
        "    (\"OMP\", OrthogonalMatchingPursuit()),\n",
        "    (\"RANSAC\", RANSACRegressor()),\n",
        "    (\"Huber\", HuberRegressor()),\n",
        "    (\"Decision Tree\", DecisionTreeRegressor()),\n",
        "    (\"Random Forest\", RandomForestRegressor()),\n",
        "    (\"Gradient Boosting\", GradientBoostingRegressor()),\n",
        "    (\"AdaBoost\", AdaBoostRegressor()),\n",
        "    (\"Bagging\", BaggingRegressor()),\n",
        "    (\"KNN\", KNeighborsRegressor()),\n",
        "    (\"NuSVR\", NuSVR()),\n",
        "    (\"Linear SVR\", LinearSVR()),\n",
        "    (\"LightGBM\", LGBMRegressor()),\n",
        "]\n"
      ],
      "metadata": {
        "id": "nSVwLMCAhroT"
      },
      "execution_count": null,
      "outputs": []
    },
    {
      "cell_type": "code",
      "source": [
        "results_df = pd.DataFrame(columns=[\"Model\", \"MAE\", \"MSE\", \"MAPE\", \"RMSE\", \"R-squared\"])\n",
        "\n",
        "for name, model in models:\n",
        "    model.fit(x_train, y_train)\n",
        "    y_pred = model.predict(x_test)\n",
        "\n",
        "    mae = mean_absolute_error(y_test, y_pred)\n",
        "    mse = mean_squared_error(y_test, y_pred)\n",
        "    mape = mean_absolute_percentage_error(y_test, y_pred)\n",
        "    rmse = mean_squared_error(y_test, y_pred, squared=False)\n",
        "    r_squared = r2_score(y_test, y_pred)\n",
        "\n",
        "    results_df = results_df.append({\n",
        "        \"Model\": name,\n",
        "        \"MAE\": mae,\n",
        "        \"MSE\": mse,\n",
        "        \"MAPE\": mape,\n",
        "        \"RMSE\": rmse,\n",
        "        \"R-squared\": r_squared\n",
        "    }, ignore_index=True)\n",
        "\n",
        "print(results_df)"
      ],
      "metadata": {
        "colab": {
          "base_uri": "https://localhost:8080/"
        },
        "id": "dNJ67HnwdbzU",
        "outputId": "cb1bda0c-5977-4c1a-c901-4bde4cc82309"
      },
      "execution_count": null,
      "outputs": [
        {
          "output_type": "stream",
          "name": "stderr",
          "text": [
            "<ipython-input-80-9f877f1cd55d>:13: FutureWarning: The frame.append method is deprecated and will be removed from pandas in a future version. Use pandas.concat instead.\n",
            "  results_df = results_df.append({\n",
            "<ipython-input-80-9f877f1cd55d>:13: FutureWarning: The frame.append method is deprecated and will be removed from pandas in a future version. Use pandas.concat instead.\n",
            "  results_df = results_df.append({\n",
            "<ipython-input-80-9f877f1cd55d>:13: FutureWarning: The frame.append method is deprecated and will be removed from pandas in a future version. Use pandas.concat instead.\n",
            "  results_df = results_df.append({\n",
            "<ipython-input-80-9f877f1cd55d>:13: FutureWarning: The frame.append method is deprecated and will be removed from pandas in a future version. Use pandas.concat instead.\n",
            "  results_df = results_df.append({\n",
            "/usr/local/lib/python3.10/dist-packages/sklearn/utils/validation.py:1143: DataConversionWarning: A column-vector y was passed when a 1d array was expected. Please change the shape of y to (n_samples, ), for example using ravel().\n",
            "  y = column_or_1d(y, warn=True)\n",
            "<ipython-input-80-9f877f1cd55d>:13: FutureWarning: The frame.append method is deprecated and will be removed from pandas in a future version. Use pandas.concat instead.\n",
            "  results_df = results_df.append({\n",
            "/usr/local/lib/python3.10/dist-packages/sklearn/utils/validation.py:1143: DataConversionWarning: A column-vector y was passed when a 1d array was expected. Please change the shape of y to (n_samples, ), for example using ravel().\n",
            "  y = column_or_1d(y, warn=True)\n",
            "<ipython-input-80-9f877f1cd55d>:13: FutureWarning: The frame.append method is deprecated and will be removed from pandas in a future version. Use pandas.concat instead.\n",
            "  results_df = results_df.append({\n",
            "<ipython-input-80-9f877f1cd55d>:13: FutureWarning: The frame.append method is deprecated and will be removed from pandas in a future version. Use pandas.concat instead.\n",
            "  results_df = results_df.append({\n",
            "<ipython-input-80-9f877f1cd55d>:13: FutureWarning: The frame.append method is deprecated and will be removed from pandas in a future version. Use pandas.concat instead.\n",
            "  results_df = results_df.append({\n",
            "<ipython-input-80-9f877f1cd55d>:13: FutureWarning: The frame.append method is deprecated and will be removed from pandas in a future version. Use pandas.concat instead.\n",
            "  results_df = results_df.append({\n",
            "/usr/local/lib/python3.10/dist-packages/sklearn/utils/validation.py:1143: DataConversionWarning: A column-vector y was passed when a 1d array was expected. Please change the shape of y to (n_samples, ), for example using ravel().\n",
            "  y = column_or_1d(y, warn=True)\n",
            "<ipython-input-80-9f877f1cd55d>:13: FutureWarning: The frame.append method is deprecated and will be removed from pandas in a future version. Use pandas.concat instead.\n",
            "  results_df = results_df.append({\n",
            "<ipython-input-80-9f877f1cd55d>:13: FutureWarning: The frame.append method is deprecated and will be removed from pandas in a future version. Use pandas.concat instead.\n",
            "  results_df = results_df.append({\n",
            "<ipython-input-80-9f877f1cd55d>:4: DataConversionWarning: A column-vector y was passed when a 1d array was expected. Please change the shape of y to (n_samples,), for example using ravel().\n",
            "  model.fit(x_train, y_train)\n",
            "<ipython-input-80-9f877f1cd55d>:13: FutureWarning: The frame.append method is deprecated and will be removed from pandas in a future version. Use pandas.concat instead.\n",
            "  results_df = results_df.append({\n",
            "/usr/local/lib/python3.10/dist-packages/sklearn/ensemble/_gb.py:437: DataConversionWarning: A column-vector y was passed when a 1d array was expected. Please change the shape of y to (n_samples, ), for example using ravel().\n",
            "  y = column_or_1d(y, warn=True)\n",
            "<ipython-input-80-9f877f1cd55d>:13: FutureWarning: The frame.append method is deprecated and will be removed from pandas in a future version. Use pandas.concat instead.\n",
            "  results_df = results_df.append({\n",
            "/usr/local/lib/python3.10/dist-packages/sklearn/utils/validation.py:1143: DataConversionWarning: A column-vector y was passed when a 1d array was expected. Please change the shape of y to (n_samples, ), for example using ravel().\n",
            "  y = column_or_1d(y, warn=True)\n",
            "<ipython-input-80-9f877f1cd55d>:13: FutureWarning: The frame.append method is deprecated and will be removed from pandas in a future version. Use pandas.concat instead.\n",
            "  results_df = results_df.append({\n",
            "/usr/local/lib/python3.10/dist-packages/sklearn/ensemble/_bagging.py:508: DataConversionWarning: A column-vector y was passed when a 1d array was expected. Please change the shape of y to (n_samples, ), for example using ravel().\n",
            "  return column_or_1d(y, warn=True)\n",
            "<ipython-input-80-9f877f1cd55d>:13: FutureWarning: The frame.append method is deprecated and will be removed from pandas in a future version. Use pandas.concat instead.\n",
            "  results_df = results_df.append({\n"
          ]
        },
        {
          "output_type": "stream",
          "name": "stdout",
          "text": [
            "[LightGBM] [Warning] Auto-choosing row-wise multi-threading, the overhead of testing was 0.000393 seconds.\n",
            "You can set `force_row_wise=true` to remove the overhead.\n",
            "And if memory is not enough, you can set `force_col_wise=true`.\n",
            "[LightGBM] [Info] Total Bins 32\n",
            "[LightGBM] [Info] Number of data points in the train set: 936, number of used features: 6\n",
            "[LightGBM] [Info] Start training from score 13009.542463\n",
            "                Model          MAE           MSE      MAPE          RMSE  \\\n",
            "0   Linear Regression  5289.246975  4.624223e+07  0.789134   6800.164065   \n",
            "1               Ridge  5293.989513  4.627603e+07  0.791561   6802.648461   \n",
            "2               Lasso  5289.459046  4.624318e+07  0.789286   6800.234156   \n",
            "3          ElasticNet  7175.360300  8.812705e+07  1.177509   9387.600639   \n",
            "4   Poisson Regressor  4877.672711  4.118195e+07  0.777160   6417.316143   \n",
            "5      Bayesian Ridge  5292.463886  4.626509e+07  0.790815   6801.844959   \n",
            "6           LassoLars  5289.459036  4.624318e+07  0.789286   6800.234147   \n",
            "7                 OMP  5494.013085  5.044597e+07  0.818226   7102.532899   \n",
            "8              RANSAC  6479.982321  9.587691e+07  0.717091   9791.675522   \n",
            "9               Huber  5205.484292  4.618917e+07  0.707368   6796.261777   \n",
            "10      Decision Tree  3953.406345  6.203794e+07  0.467455   7876.416385   \n",
            "11      Random Forest  3592.646943  3.691936e+07  0.437615   6076.130510   \n",
            "12  Gradient Boosting  3194.857321  2.910739e+07  0.366938   5395.126191   \n",
            "13           AdaBoost  5163.085909  4.268831e+07  0.813691   6533.629309   \n",
            "14            Bagging  3584.764641  3.901901e+07  0.437005   6246.520016   \n",
            "15                KNN  5751.337688  6.981487e+07  0.683640   8355.529295   \n",
            "16              NuSVR  7733.232469  1.279688e+08  1.066588  11312.329049   \n",
            "17         Linear SVR  7756.006711  1.580296e+08  0.637791  12570.982572   \n",
            "18           LightGBM  3333.576277  3.003089e+07  0.410937   5480.044254   \n",
            "\n",
            "    R-squared  \n",
            "0    0.626328  \n",
            "1    0.626055  \n",
            "2    0.626320  \n",
            "3    0.287867  \n",
            "4    0.667219  \n",
            "5    0.626143  \n",
            "6    0.626320  \n",
            "7    0.592359  \n",
            "8    0.225243  \n",
            "9    0.626757  \n",
            "10   0.498687  \n",
            "11   0.701664  \n",
            "12   0.764790  \n",
            "13   0.655046  \n",
            "14   0.684697  \n",
            "15   0.435843  \n",
            "16  -0.034084  \n",
            "17  -0.276998  \n",
            "18   0.757328  \n"
          ]
        },
        {
          "output_type": "stream",
          "name": "stderr",
          "text": [
            "<ipython-input-80-9f877f1cd55d>:13: FutureWarning: The frame.append method is deprecated and will be removed from pandas in a future version. Use pandas.concat instead.\n",
            "  results_df = results_df.append({\n",
            "/usr/local/lib/python3.10/dist-packages/sklearn/utils/validation.py:1143: DataConversionWarning: A column-vector y was passed when a 1d array was expected. Please change the shape of y to (n_samples, ), for example using ravel().\n",
            "  y = column_or_1d(y, warn=True)\n",
            "<ipython-input-80-9f877f1cd55d>:13: FutureWarning: The frame.append method is deprecated and will be removed from pandas in a future version. Use pandas.concat instead.\n",
            "  results_df = results_df.append({\n",
            "/usr/local/lib/python3.10/dist-packages/sklearn/utils/validation.py:1143: DataConversionWarning: A column-vector y was passed when a 1d array was expected. Please change the shape of y to (n_samples, ), for example using ravel().\n",
            "  y = column_or_1d(y, warn=True)\n",
            "<ipython-input-80-9f877f1cd55d>:13: FutureWarning: The frame.append method is deprecated and will be removed from pandas in a future version. Use pandas.concat instead.\n",
            "  results_df = results_df.append({\n",
            "<ipython-input-80-9f877f1cd55d>:13: FutureWarning: The frame.append method is deprecated and will be removed from pandas in a future version. Use pandas.concat instead.\n",
            "  results_df = results_df.append({\n"
          ]
        }
      ]
    },
    {
      "cell_type": "markdown",
      "source": [
        "Burada en iyi algoritma 12 numara olan Gradient BOOsting Algoritmasının  kullanılması şuan için uyguun görülmektedir. Hem R-squared değeri(y nin varyasyonunu en iyi açıklaması) hemde mae değeri en düşük olması hemde rmse değeri düşük olması nedeniye bu algoritma seçimi doğru olacaktır."
      ],
      "metadata": {
        "id": "BwVrdqeMijas"
      }
    },
    {
      "cell_type": "markdown",
      "source": [
        "Şimdi Seçilen Gradient Boosting Algoritması için en iyi cross validation değerini belirleyerek modelimizin doğru tahmin gücünü arttırmaya çalışalım."
      ],
      "metadata": {
        "id": "GxN7L0mFi8f0"
      }
    },
    {
      "cell_type": "code",
      "source": [
        "from sklearn.model_selection import cross_val_score, KFold\n",
        "#En iyi cv değerini bulmak\n",
        "veri = pd.DataFrame(orjn)\n",
        "hedef = veri['charges']\n",
        "\n",
        "model = GradientBoostingRegressor()\n",
        "\n",
        "cross_validation_numbers = [3, 5, 10, 15]\n",
        "results = []\n",
        "\n",
        "for cv_num in cross_validation_numbers:\n",
        "    scores_mae = -cross_val_score(model, veri, hedef, cv=cv_num, scoring='neg_mean_absolute_error')\n",
        "    scores_mse = -cross_val_score(model, veri, hedef, cv=cv_num, scoring='neg_mean_squared_error')\n",
        "\n",
        "    mape_scores = []\n",
        "    r_squared_scores = []\n",
        "    for train_idx, test_idx in KFold(n_splits=cv_num).split(veri):\n",
        "        veri_train, veri_test = veri.iloc[train_idx], veri.iloc[test_idx]\n",
        "        hedef_train, hedef_test = hedef.iloc[train_idx], hedef.iloc[test_idx]\n",
        "        model.fit(veri_train, hedef_train)\n",
        "        hedef_pred = model.predict(veri_test)\n",
        "        mape = np.mean(np.abs((hedef_test - hedef_pred) / hedef_test)) * 100\n",
        "        mape_scores.append(mape)\n",
        "        r_squared = model.score(veri_test, hedef_test)\n",
        "        r_squared_scores.append(r_squared)\n",
        "\n",
        "    scores_rmse = np.sqrt(scores_mse)\n",
        "\n",
        "\n",
        "    result = {\n",
        "        \"Çapraz Doğrulama Sayısı\": cv_num,\n",
        "        \"MAE\": scores_mae,\n",
        "        \"MSE\": scores_mse,\n",
        "        \"RMSE\": scores_rmse,\n",
        "        \"MAPE\": mape_scores,\n",
        "        \"R-squared\": r_squared_scores\n",
        "    }\n",
        "\n",
        "    results.append(result)\n",
        "\n",
        "for result in results:\n",
        "    print(f\"Çapraz Doğrulama Sayısı: {result['Çapraz Doğrulama Sayısı']}\")\n",
        "    print(f\"MAE: {np.mean(result['MAE'])}\")\n",
        "    print(f\"MSE: {np.mean(result['MSE'])}\")\n",
        "    print(f\"RMSE: {np.mean(result['RMSE'])}\")\n",
        "    print(f\"MAPE: {np.mean(result['MAPE'])}\")\n",
        "    print(f\"R-squared: {np.mean(result['R-squared'])}\")"
      ],
      "metadata": {
        "id": "MTIFCbYWdb2C"
      },
      "execution_count": null,
      "outputs": []
    },
    {
      "cell_type": "markdown",
      "source": [],
      "metadata": {
        "id": "HN2Dy3khjieE"
      }
    },
    {
      "cell_type": "markdown",
      "source": [
        "Burada en iyi cv değeri 15 olarak görülmekte ancak modelimizi overfitting yaptığı için bu sefer üzerinde bir L1 veya L2 ile regularization işlemi yapılması uygun olacaktır."
      ],
      "metadata": {
        "id": "FgtD8qEhjijW"
      }
    },
    {
      "cell_type": "code",
      "source": [
        "#L1 Regresyon\n",
        "veri = pd.DataFrame(orjn)\n",
        "hedef = veri['charges']\n",
        "x = veri.drop(columns=['charges'])\n",
        "\n",
        "x_train, x_test, y_train, y_test = train_test_split(x, hedef, test_size=0.3, random_state=42)\n",
        "\n",
        "model = GradientBoostingRegressor()\n",
        "lasso = Lasso(alpha=0.01)  # alpha değerini değğiştirebiliriz\n",
        "\n",
        "lasso.fit(x_train, y_train)\n",
        "\n",
        "selected_features = x_train.columns[lasso.coef_ != 0]\n",
        "model.fit(x_train[selected_features], y_train)\n",
        "\n",
        "\n",
        "y_pred = model.predict(x_test[selected_features])\n",
        "\n",
        "\n",
        "mae = mean_absolute_error(y_test, y_pred)\n",
        "mse = mean_squared_error(y_test, y_pred)\n",
        "rmse = np.sqrt(mse)\n",
        "mape = np.mean(np.abs((y_test - y_pred) / y_test)) * 100\n",
        "r_squared = model.score(x_test[selected_features], y_test)\n",
        "\n",
        "print(f\"MAE: {mae}\")\n",
        "print(f\"MSE: {mse}\")\n",
        "print(f\"RMSE: {rmse}\")\n",
        "print(f\"MAPE: {mape}\")\n",
        "print(f\"R-squared: {r_squared}\")\n"
      ],
      "metadata": {
        "id": "AJtr2lRKjcW6"
      },
      "execution_count": null,
      "outputs": []
    },
    {
      "cell_type": "code",
      "source": [
        "#L2 Regresyon\n",
        "hedef = veri['charges']\n",
        "x = veri.drop(columns=['charges'])\n",
        "\n",
        "\n",
        "x_train, x_test, y_train, y_test = train_test_split(x, hedef, test_size=0.3, random_state=42)\n",
        "\n",
        "#L2 modeli kuruldu\n",
        "ridge = Ridge(alpha=0.01)\n",
        "ridge.fit(x_train, y_train)\n",
        "selected_features = x_train.columns\n",
        "\n",
        "model = GradientBoostingRegressor()\n",
        "model.fit(x_train[selected_features], y_train)\n",
        "\n",
        "y_pred = model.predict(x_test[selected_features])\n",
        "mae = mean_absolute_error(y_test, y_pred)\n",
        "mse = mean_squared_error(y_test, y_pred)\n",
        "rmse = np.sqrt(mse)\n",
        "mape = np.mean(np.abs((y_test - y_pred) / y_test)) * 100\n",
        "r_squared = model.score(x_test[selected_features], y_test)\n",
        "\n",
        "print(f\"MAE: {mae}\")\n",
        "print(f\"MSE: {mse}\")\n",
        "print(f\"RMSE: {rmse}\")\n",
        "print(f\"MAPE: {mape}\")\n",
        "print(f\"R-squared: {r_squared}\")\n"
      ],
      "metadata": {
        "id": "t_zhpGGbjca6"
      },
      "execution_count": null,
      "outputs": []
    },
    {
      "cell_type": "code",
      "source": [
        "# en iyi hiperparametre değerlerini belirlemek\n",
        "from sklearn.model_selection import GridSearchCV\n",
        "param_grid = {\n",
        "    'n_estimators': [25,50, 75,100, 200],\n",
        "    'learning_rate': [0.01, 0.1, 0.2,0.3],\n",
        "    'max_depth': [2,3, 4, 5],\n",
        "\n",
        "}\n",
        "\n",
        "grid_search = GridSearchCV(GradientBoostingRegressor(), param_grid, cv=15, scoring='neg_mean_squared_error', verbose=2, n_jobs=-1) #cv 15 olarak belirlenmişti\n",
        "grid_search.fit(x_train, y_train)\n",
        "print(\"En iyi hiperparametreler:\", grid_search.best_params_)\n",
        "print(\"En iyi sonuç (RMSE):\", -grid_search.best_score_)\n",
        "\n",
        "best_model = grid_search.best_estimator_\n",
        "\n",
        "y_pred = best_model.predict(x_test)\n",
        "\n",
        "mae = mean_absolute_error(y_test, y_pred)\n",
        "mse = mean_squared_error(y_test, y_pred)\n",
        "mape = mean_absolute_percentage_error(y_test, y_pred)\n",
        "rmse = mean_squared_error(y_test, y_pred, squared=False)\n",
        "r_squared = r2_score(y_test, y_pred)\n",
        "\n",
        "print(\"MAE:\", mae)\n",
        "print(\"R-squared:\", r_squared)\n",
        "print(\"MSE:\", mse)\n",
        "print(\"MAPE:\", mape)\n"
      ],
      "metadata": {
        "id": "8cbvOwOKjcf-"
      },
      "execution_count": null,
      "outputs": []
    },
    {
      "cell_type": "markdown",
      "source": [
        "Sonuç olarak L1 veya L2 ile çalışşsak dahi modelimizi ilk kurup çalıştırdığımızda elde ettiğimiz model başarı metrik değerlerinden bir farkı olmadı. Daha sonra modelin cv değeri 15 olarak bu sefer modelin hiper parametre değerleri(sadece n_estimators - learning rate ve max_dept parametreleri alındı) ele alınarak en iyi hiper parametre değerleri belirlenerek en iyi başarı metrik değerleri tespit edinilmeye çalışıldı.\n",
        "Sonucunda modelin en iyi hiper parametreleri :\n",
        "n_estimators  : 100\n",
        "learning rate : 0.2\n",
        "max_dept      : 2 olarak bulundu.\n",
        "\n",
        "Bu model ele alınırsa modelimiz %76 oranında doğru tahmin yapabilir diyebiliriz.\n"
      ],
      "metadata": {
        "id": "I-Bna1eAkrxM"
      }
    },
    {
      "cell_type": "markdown",
      "source": [
        "Bu kısımda Gradient Boosting Algoritması dışında diğer en iyi sonucu veren modeller ile de çalışarak Gradient Boosting Algoritmasından daha iyi bir sonuç elde edilenebilir olması mümkün olduğundan işlemler tekrarlandı ve (LightGBM , Random Forest - Bagging - Adabost - Poisson Regressor Modelleri) sonucunda Gradient Boosting algoritmasından daha iyi çalışan model LightGBM oldu.\n",
        "\n",
        "LightGBM  modeli default olarak çalıştığında model başarısı %75 den %77 oranında artış yapılarak Gradient Boosting Modeline göre daha doğru tahmin yapabilen bir model oldu."
      ],
      "metadata": {
        "id": "EFtmgZ7bmRBn"
      }
    }
  ]
}